{
 "cells": [
  {
   "cell_type": "code",
   "execution_count": null,
   "id": "38c05f5a-ae89-4259-9e04-7805c4f28c44",
   "metadata": {},
   "outputs": [],
   "source": [
    "# Entrenamiento de modelo de reconocimiento de gestos (letras A-Z)\n",
    "\n",
    "# Paso 1: Cargar librerías\n",
    "import pandas as pd\n",
    "import numpy as np\n",
    "from sklearn.model_selection import train_test_split\n",
    "from sklearn.neighbors import KNeighborsClassifier\n",
    "from sklearn.metrics import classification_report, confusion_matrix\n",
    "import pickle\n",
    "import matplotlib.pyplot as plt\n",
    "import seaborn as sns"
   ]
  },
  {
   "cell_type": "code",
   "execution_count": null,
   "id": "6adde185-52e8-40a9-8c53-b99abc7a2854",
   "metadata": {},
   "outputs": [],
   "source": [
    "# Paso 2: Cargar el dataset\n",
    "df = pd.read_csv('data/dataset.csv')\n",
    "print(f\"Total de muestras: {len(df)}\")\n",
    "df.head()"
   ]
  },
  {
   "cell_type": "code",
   "execution_count": null,
   "id": "20dc5eb0-25cc-45d2-90a8-3203e9fb27c0",
   "metadata": {},
   "outputs": [],
   "source": [
    "# Paso 3: Separar X (características) e y (etiquetas)\n",
    "X = df.drop('label', axis=1)\n",
    "y = df['label']"
   ]
  },
  {
   "cell_type": "code",
   "execution_count": null,
   "id": "5865aa0c-2e05-4f65-a37d-8c642f46459e",
   "metadata": {},
   "outputs": [],
   "source": [
    "# Paso 4: Dividir en conjunto de entrenamiento y prueba\n",
    "X_train, X_test, y_train, y_test = train_test_split(\n",
    "    X, y, test_size=0.2, random_state=42, stratify=y)\n",
    "\n",
    "print(f\"Muestras de entrenamiento: {len(X_train)}, Prueba: {len(X_test)}\")"
   ]
  },
  {
   "cell_type": "code",
   "execution_count": null,
   "id": "35818a2a-8b35-4189-8878-240be96a25c8",
   "metadata": {},
   "outputs": [],
   "source": [
    "# Paso 5: Entrenar el modelo (KNN)\n",
    "knn = KNeighborsClassifier(n_neighbors=5)\n",
    "knn.fit(X_train, y_train)"
   ]
  },
  {
   "cell_type": "code",
   "execution_count": null,
   "id": "f227a7c7-ef06-4794-ad46-434501e6d129",
   "metadata": {},
   "outputs": [],
   "source": [
    "# Paso 6: Evaluar el modelo\n",
    "y_pred = knn.predict(X_test)\n",
    "print(\"\\nReporte de Clasificación:\\n\")\n",
    "print(classification_report(y_test, y_pred))"
   ]
  },
  {
   "cell_type": "code",
   "execution_count": null,
   "id": "93169f2c-1a94-4ab9-8bd4-5471d3012e5e",
   "metadata": {},
   "outputs": [],
   "source": [
    "# Matriz de confusión\n",
    "plt.figure(figsize=(10, 8))\n",
    "cm = confusion_matrix(y_test, y_pred, labels=knn.classes_)\n",
    "sns.heatmap(cm, annot=True, fmt=\"d\", cmap=\"Blues\", xticklabels=knn.classes_, yticklabels=knn.classes_)\n",
    "plt.xlabel(\"Predicción\")\n",
    "plt.ylabel(\"Real\")\n",
    "plt.title(\"Matriz de Confusión\")\n",
    "plt.show()"
   ]
  },
  {
   "cell_type": "code",
   "execution_count": null,
   "id": "54ecad78-3e42-4d3c-aba6-b3c9f729d876",
   "metadata": {},
   "outputs": [],
   "source": [
    "# Paso 7: Guardar el modelo entrenado\n",
    "with open('data/gesture_model.pkl', 'wb') as f:\n",
    "    pickle.dump(knn, f)\n",
    "\n",
    "print(\"Modelo guardado como 'data/gesture_model.pkl'\")"
   ]
  }
 ],
 "metadata": {
  "kernelspec": {
   "display_name": "Python 3 (ipykernel)",
   "language": "python",
   "name": "python3"
  },
  "language_info": {
   "codemirror_mode": {
    "name": "ipython",
    "version": 3
   },
   "file_extension": ".py",
   "mimetype": "text/x-python",
   "name": "python",
   "nbconvert_exporter": "python",
   "pygments_lexer": "ipython3",
   "version": "3.12.2"
  }
 },
 "nbformat": 4,
 "nbformat_minor": 5
}
